{
 "cells": [
  {
   "cell_type": "code",
   "execution_count": 6,
   "metadata": {},
   "outputs": [],
   "source": [
    "import epitran\n",
    "import pandas as pd"
   ]
  },
  {
   "cell_type": "code",
   "execution_count": 2,
   "metadata": {},
   "outputs": [],
   "source": [
    "epi = epitran.Epitran(\"spa-Latn\")"
   ]
  },
  {
   "cell_type": "markdown",
   "metadata": {},
   "source": [
    "# Transliteration"
   ]
  },
  {
   "cell_type": "code",
   "execution_count": 3,
   "metadata": {},
   "outputs": [
    {
     "data": {
      "text/plain": [
       "'¡ke onda peros!'"
      ]
     },
     "execution_count": 3,
     "metadata": {},
     "output_type": "execute_result"
    }
   ],
   "source": [
    "epi.transliterate(\"¡Que onda perros!\")"
   ]
  },
  {
   "cell_type": "code",
   "execution_count": 4,
   "metadata": {},
   "outputs": [
    {
     "data": {
      "text/plain": [
       "'pelo'"
      ]
     },
     "execution_count": 4,
     "metadata": {},
     "output_type": "execute_result"
    }
   ],
   "source": [
    "epi.transliterate(\"pelo\")"
   ]
  },
  {
   "cell_type": "markdown",
   "metadata": {},
   "source": [
    "# Base de datos\n",
    "por @jmtoralc"
   ]
  },
  {
   "cell_type": "code",
   "execution_count": 9,
   "metadata": {},
   "outputs": [],
   "source": [
    "datos = pd.read_csv(\"https://raw.githubusercontent.com/jmtoral/red_bull_mx/master/final_le_sk_rbmex19.csv\", encoding = 'latin-1')"
   ]
  },
  {
   "cell_type": "code",
   "execution_count": 10,
   "metadata": {},
   "outputs": [
    {
     "data": {
      "text/html": [
       "<div>\n",
       "<style scoped>\n",
       "    .dataframe tbody tr th:only-of-type {\n",
       "        vertical-align: middle;\n",
       "    }\n",
       "\n",
       "    .dataframe tbody tr th {\n",
       "        vertical-align: top;\n",
       "    }\n",
       "\n",
       "    .dataframe thead th {\n",
       "        text-align: right;\n",
       "    }\n",
       "</style>\n",
       "<table border=\"1\" class=\"dataframe\">\n",
       "  <thead>\n",
       "    <tr style=\"text-align: right;\">\n",
       "      <th></th>\n",
       "      <th>etapa</th>\n",
       "      <th>parte</th>\n",
       "      <th>mc</th>\n",
       "      <th>estrofa</th>\n",
       "      <th>verso</th>\n",
       "      <th>contenido</th>\n",
       "    </tr>\n",
       "  </thead>\n",
       "  <tbody>\n",
       "    <tr>\n",
       "      <td>0</td>\n",
       "      <td>Final</td>\n",
       "      <td>minuto temática</td>\n",
       "      <td>lobo estepario</td>\n",
       "      <td>1</td>\n",
       "      <td>1</td>\n",
       "      <td>hoy improviso en esta ocasión te juro que aquí...</td>\n",
       "    </tr>\n",
       "    <tr>\n",
       "      <td>1</td>\n",
       "      <td>Final</td>\n",
       "      <td>minuto temática</td>\n",
       "      <td>lobo estepario</td>\n",
       "      <td>1</td>\n",
       "      <td>2</td>\n",
       "      <td>que tengo versos tan buenos te juro que aquí t...</td>\n",
       "    </tr>\n",
       "    <tr>\n",
       "      <td>2</td>\n",
       "      <td>Final</td>\n",
       "      <td>minuto temática</td>\n",
       "      <td>lobo estepario</td>\n",
       "      <td>1</td>\n",
       "      <td>3</td>\n",
       "      <td>no puedes decir que tú eres las redes sociales</td>\n",
       "    </tr>\n",
       "    <tr>\n",
       "      <td>3</td>\n",
       "      <td>Final</td>\n",
       "      <td>minuto temática</td>\n",
       "      <td>lobo estepario</td>\n",
       "      <td>1</td>\n",
       "      <td>4</td>\n",
       "      <td>porque el día de hoy te caes al igual que toda...</td>\n",
       "    </tr>\n",
       "    <tr>\n",
       "      <td>4</td>\n",
       "      <td>Final</td>\n",
       "      <td>minuto temática</td>\n",
       "      <td>lobo estepario</td>\n",
       "      <td>2</td>\n",
       "      <td>1</td>\n",
       "      <td>quieres hacerlo como yo cabrón</td>\n",
       "    </tr>\n",
       "  </tbody>\n",
       "</table>\n",
       "</div>"
      ],
      "text/plain": [
       "   etapa            parte              mc  estrofa  verso  \\\n",
       "0  Final  minuto temática  lobo estepario        1      1   \n",
       "1  Final  minuto temática  lobo estepario        1      2   \n",
       "2  Final  minuto temática  lobo estepario        1      3   \n",
       "3  Final  minuto temática  lobo estepario        1      4   \n",
       "4  Final  minuto temática  lobo estepario        2      1   \n",
       "\n",
       "                                           contenido  \n",
       "0  hoy improviso en esta ocasión te juro que aquí...  \n",
       "1  que tengo versos tan buenos te juro que aquí t...  \n",
       "2     no puedes decir que tú eres las redes sociales  \n",
       "3  porque el día de hoy te caes al igual que toda...  \n",
       "4                    quieres hacerlo como yo cabrón   "
      ]
     },
     "execution_count": 10,
     "metadata": {},
     "output_type": "execute_result"
    }
   ],
   "source": [
    "datos.head()"
   ]
  },
  {
   "cell_type": "code",
   "execution_count": 11,
   "metadata": {},
   "outputs": [
    {
     "data": {
      "text/plain": [
       "(226, 6)"
      ]
     },
     "execution_count": 11,
     "metadata": {},
     "output_type": "execute_result"
    }
   ],
   "source": [
    "datos.shape"
   ]
  },
  {
   "cell_type": "code",
   "execution_count": 12,
   "metadata": {},
   "outputs": [],
   "source": [
    "def transliteracion_de_barras(serie):\n",
    "    \"\"\"\n",
    "    Recibe una Series de pandas y translitera su contenido.\n",
    "    \"\"\"\n",
    "    texto_transliterado = epi.transliterate(serie)\n",
    "    return texto_transliterado"
   ]
  },
  {
   "cell_type": "code",
   "execution_count": 14,
   "metadata": {},
   "outputs": [],
   "source": [
    "datos['transliteracion'] = datos['contenido'].apply(transliteracion_de_barras)"
   ]
  },
  {
   "cell_type": "code",
   "execution_count": 15,
   "metadata": {},
   "outputs": [
    {
     "data": {
      "text/html": [
       "<div>\n",
       "<style scoped>\n",
       "    .dataframe tbody tr th:only-of-type {\n",
       "        vertical-align: middle;\n",
       "    }\n",
       "\n",
       "    .dataframe tbody tr th {\n",
       "        vertical-align: top;\n",
       "    }\n",
       "\n",
       "    .dataframe thead th {\n",
       "        text-align: right;\n",
       "    }\n",
       "</style>\n",
       "<table border=\"1\" class=\"dataframe\">\n",
       "  <thead>\n",
       "    <tr style=\"text-align: right;\">\n",
       "      <th></th>\n",
       "      <th>etapa</th>\n",
       "      <th>parte</th>\n",
       "      <th>mc</th>\n",
       "      <th>estrofa</th>\n",
       "      <th>verso</th>\n",
       "      <th>contenido</th>\n",
       "      <th>transliteracion</th>\n",
       "    </tr>\n",
       "  </thead>\n",
       "  <tbody>\n",
       "    <tr>\n",
       "      <td>0</td>\n",
       "      <td>Final</td>\n",
       "      <td>minuto temática</td>\n",
       "      <td>lobo estepario</td>\n",
       "      <td>1</td>\n",
       "      <td>1</td>\n",
       "      <td>hoy improviso en esta ocasión te juro que aquí...</td>\n",
       "      <td>oi impɾobiso en esta okasjon te xuɾo ke aki ia...</td>\n",
       "    </tr>\n",
       "    <tr>\n",
       "      <td>1</td>\n",
       "      <td>Final</td>\n",
       "      <td>minuto temática</td>\n",
       "      <td>lobo estepario</td>\n",
       "      <td>1</td>\n",
       "      <td>2</td>\n",
       "      <td>que tengo versos tan buenos te juro que aquí t...</td>\n",
       "      <td>ke tenɡo beɾsos tan bwenos te xuɾo ke aki te m...</td>\n",
       "    </tr>\n",
       "    <tr>\n",
       "      <td>2</td>\n",
       "      <td>Final</td>\n",
       "      <td>minuto temática</td>\n",
       "      <td>lobo estepario</td>\n",
       "      <td>1</td>\n",
       "      <td>3</td>\n",
       "      <td>no puedes decir que tú eres las redes sociales</td>\n",
       "      <td>no pwedes desiɾ ke tu eɾes las ɾedes sosiales</td>\n",
       "    </tr>\n",
       "    <tr>\n",
       "      <td>3</td>\n",
       "      <td>Final</td>\n",
       "      <td>minuto temática</td>\n",
       "      <td>lobo estepario</td>\n",
       "      <td>1</td>\n",
       "      <td>4</td>\n",
       "      <td>porque el día de hoy te caes al igual que toda...</td>\n",
       "      <td>poɾke el dja de oi te kaes al iɡwal ke todas t...</td>\n",
       "    </tr>\n",
       "    <tr>\n",
       "      <td>4</td>\n",
       "      <td>Final</td>\n",
       "      <td>minuto temática</td>\n",
       "      <td>lobo estepario</td>\n",
       "      <td>2</td>\n",
       "      <td>1</td>\n",
       "      <td>quieres hacerlo como yo cabrón</td>\n",
       "      <td>kjeɾes aseɾlo komo io kabɾon</td>\n",
       "    </tr>\n",
       "  </tbody>\n",
       "</table>\n",
       "</div>"
      ],
      "text/plain": [
       "   etapa            parte              mc  estrofa  verso  \\\n",
       "0  Final  minuto temática  lobo estepario        1      1   \n",
       "1  Final  minuto temática  lobo estepario        1      2   \n",
       "2  Final  minuto temática  lobo estepario        1      3   \n",
       "3  Final  minuto temática  lobo estepario        1      4   \n",
       "4  Final  minuto temática  lobo estepario        2      1   \n",
       "\n",
       "                                           contenido  \\\n",
       "0  hoy improviso en esta ocasión te juro que aquí...   \n",
       "1  que tengo versos tan buenos te juro que aquí t...   \n",
       "2     no puedes decir que tú eres las redes sociales   \n",
       "3  porque el día de hoy te caes al igual que toda...   \n",
       "4                    quieres hacerlo como yo cabrón    \n",
       "\n",
       "                                     transliteracion  \n",
       "0  oi impɾobiso en esta okasjon te xuɾo ke aki ia...  \n",
       "1  ke tenɡo beɾsos tan bwenos te xuɾo ke aki te m...  \n",
       "2      no pwedes desiɾ ke tu eɾes las ɾedes sosiales  \n",
       "3  poɾke el dja de oi te kaes al iɡwal ke todas t...  \n",
       "4                      kjeɾes aseɾlo komo io kabɾon   "
      ]
     },
     "execution_count": 15,
     "metadata": {},
     "output_type": "execute_result"
    }
   ],
   "source": [
    "datos.head()"
   ]
  },
  {
   "cell_type": "code",
   "execution_count": 19,
   "metadata": {},
   "outputs": [
    {
     "data": {
      "text/plain": [
       "etapa                                                     Final\n",
       "parte                                           minuto temática\n",
       "mc                                               lobo estepario\n",
       "estrofa                                                       4\n",
       "verso                                                         4\n",
       "contenido           y tú qué mierda serías sin el puto internet\n",
       "transliteracion      i tu ke mjeɾda seɾjas sin el puto inteɾnet\n",
       "Name: 15, dtype: object"
      ]
     },
     "execution_count": 19,
     "metadata": {},
     "output_type": "execute_result"
    }
   ],
   "source": [
    "datos.iloc[15]"
   ]
  }
 ],
 "metadata": {
  "kernelspec": {
   "display_name": "Python 3",
   "language": "python",
   "name": "python3"
  },
  "language_info": {
   "codemirror_mode": {
    "name": "ipython",
    "version": 3
   },
   "file_extension": ".py",
   "mimetype": "text/x-python",
   "name": "python",
   "nbconvert_exporter": "python",
   "pygments_lexer": "ipython3",
   "version": "3.7.3"
  }
 },
 "nbformat": 4,
 "nbformat_minor": 2
}
